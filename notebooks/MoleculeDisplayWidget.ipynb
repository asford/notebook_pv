{
 "cells": [
  {
   "cell_type": "code",
   "execution_count": 1,
   "metadata": {
    "collapsed": true
   },
   "outputs": [],
   "source": [
    "import logging\n",
    "reload(logging)\n",
    "logging.basicConfig(level=logging.INFO)"
   ]
  },
  {
   "cell_type": "code",
   "execution_count": 2,
   "metadata": {
    "collapsed": false
   },
   "outputs": [
    {
     "name": "stderr",
     "output_type": "stream",
     "text": [
      "INFO:rosetta:Found rosetta database at: /work/fordas/python_local/rosetta/database\n",
      "INFO:rosetta:Version: 1afb81950d464d6243055cb6a566fd124985cd5f\n",
      "INFO:rosetta:core.init: Rosetta version  from\n",
      "INFO:rosetta:core.init: command: pyrosetta -ex1 -ex2aro -database /work/fordas/python_local/rosetta/database\n",
      "INFO:rosetta:core.init: 'RNG device' seed mode, using '/dev/urandom', seed=73467636 seed_offset=0 real_seed=73467636\n",
      "INFO:rosetta:core.init.random: RandomGenerator:init: Normal mode, seed=73467636 RG_type=mt19937\n"
     ]
    }
   ],
   "source": [
    "import rosetta\n",
    "rosetta.init()\n",
    "import rosetta.core.import_pose"
   ]
  },
  {
   "cell_type": "code",
   "execution_count": 3,
   "metadata": {
    "collapsed": false
   },
   "outputs": [],
   "source": [
    "test_pdb = !curl http://www.rcsb.org/pdb/files/1UBQ.pdb 2> /dev/null | grep ^ATOM"
   ]
  },
  {
   "cell_type": "code",
   "execution_count": 4,
   "metadata": {
    "collapsed": false
   },
   "outputs": [
    {
     "name": "stderr",
     "output_type": "stream",
     "text": [
      "INFO:rosetta:core.chemical.ResidueTypeSet: Finished initializing fa_standard residue type set.  Created 736 residue types\n",
      "INFO:rosetta:core.pack.task: Packer task: initialize from command line()\n"
     ]
    }
   ],
   "source": [
    "test_pose = rosetta.core.pose.Pose()\n",
    "rosetta.core.import_pose.pose_from_pdbstring( test_pose, \"\\n\".join(test_pdb) )"
   ]
  },
  {
   "cell_type": "code",
   "execution_count": 5,
   "metadata": {
    "collapsed": false
   },
   "outputs": [
    {
     "name": "stderr",
     "output_type": "stream",
     "text": [
      ":0: FutureWarning: IPython widgets are experimental and may change in the future.\n"
     ]
    }
   ],
   "source": [
    "from notebook_pv.extractors import PoseModelExtractor\n",
    "from notebook_pv.widgets import MoleculeDisplayWidget"
   ]
  },
  {
   "cell_type": "code",
   "execution_count": 6,
   "metadata": {
    "collapsed": false
   },
   "outputs": [],
   "source": [
    "test_pose_model = PoseModelExtractor().extract_pose_model(test_pose)"
   ]
  },
  {
   "cell_type": "code",
   "execution_count": 7,
   "metadata": {
    "collapsed": false
   },
   "outputs": [],
   "source": [
    "display_widget = MoleculeDisplayWidget( structure = test_pose_model )"
   ]
  },
  {
   "cell_type": "code",
   "execution_count": 8,
   "metadata": {
    "collapsed": false
   },
   "outputs": [],
   "source": [
    "display_widget"
   ]
  },
  {
   "cell_type": "code",
   "execution_count": null,
   "metadata": {
    "collapsed": true
   },
   "outputs": [],
   "source": []
  }
 ],
 "metadata": {
  "kernelspec": {
   "display_name": "Python 2",
   "language": "python",
   "name": "python2"
  },
  "language_info": {
   "codemirror_mode": {
    "name": "ipython",
    "version": 2
   },
   "file_extension": ".py",
   "mimetype": "text/x-python",
   "name": "python",
   "nbconvert_exporter": "python",
   "pygments_lexer": "ipython2",
   "version": "2.7.3"
  }
 },
 "nbformat": 4,
 "nbformat_minor": 0
}
